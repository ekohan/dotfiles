{
  "nbformat": 4,
  "nbformat_minor": 0,
  "metadata": {
    "colab": {
      "provenance": [],
      "toc_visible": true,
      "authorship_tag": "ABX9TyOHOifcDkJmIQ5Ep0kyIESr",
      "include_colab_link": true
    },
    "kernelspec": {
      "name": "python3",
      "display_name": "Python 3"
    },
    "language_info": {
      "name": "python"
    }
  },
  "cells": [
    {
      "cell_type": "markdown",
      "metadata": {
        "id": "view-in-github",
        "colab_type": "text"
      },
      "source": [
        "<a href=\"https://colab.research.google.com/github/ekohan/dotfiles/blob/master/hw05_part1.ipynb\" target=\"_parent\"><img src=\"https://colab.research.google.com/assets/colab-badge.svg\" alt=\"Open In Colab\"/></a>"
      ]
    },
    {
      "cell_type": "code",
      "execution_count": 1,
      "metadata": {
        "colab": {
          "base_uri": "https://localhost:8080/"
        },
        "id": "EaV4FB8wYOUv",
        "outputId": "593b0601-21cd-448e-83d5-7776eba19357"
      },
      "outputs": [
        {
          "output_type": "stream",
          "name": "stdout",
          "text": [
            "Requirement already satisfied: scx in /usr/local/lib/python3.10/dist-packages (1.1.0)\n",
            "Requirement already satisfied: type-enforced>=1.2.0 in /usr/local/lib/python3.10/dist-packages (from scx) (1.5.0)\n",
            "Requirement already satisfied: PuLP==2.7.0 in /usr/local/lib/python3.10/dist-packages (from scx) (2.7.0)\n"
          ]
        }
      ],
      "source": [
        "pip install scx"
      ]
    },
    {
      "cell_type": "code",
      "source": [
        "from scx.optimize import Model"
      ],
      "metadata": {
        "id": "3UZXnE9TjEyE"
      },
      "execution_count": 2,
      "outputs": []
    },
    {
      "cell_type": "code",
      "source": [
        "plants = [\n",
        "\t{\n",
        "\t\t'name':'Mumbai',\n",
        "\t\t'capacity':4800,\n",
        "\t},\n",
        "\t{\n",
        "\t\t'name':'Chennai',\n",
        "\t\t'capacity':3500,\n",
        "\t},\n",
        "\t{\n",
        "\t\t'name':'Kochi',\n",
        "\t\t'capacity':2200,\n",
        "\t}\n",
        "]\n",
        "\n",
        "transportation = [\n",
        "\t{\n",
        "\t\t'origin':'Mumbai',\n",
        "\t\t'destination_dc':'Kalaburagi',\n",
        "\t\t'cost':16500\n",
        "\t},\n",
        "\t{\n",
        "\t\t'origin':'Mumbai',\n",
        "\t\t'destination_dc':'Bengaluru',\n",
        "\t\t'cost':10600\n",
        "\t},\n",
        "\t{\n",
        "\t\t'origin':'Chennai',\n",
        "\t\t'destination_dc':'Kalaburagi',\n",
        "\t\t'cost':12200\n",
        "\t},\n",
        "\t{\n",
        "\t\t'origin':'Chennai',\n",
        "\t\t'destination_dc':'Bengaluru',\n",
        "\t\t'cost':12600\n",
        "\t},\n",
        "\t{\n",
        "\t\t'origin':'Kochi',\n",
        "\t\t'destination_dc':'Kalaburagi',\n",
        "\t\t'cost':10300\n",
        "\t},\n",
        "\t{\n",
        "\t\t'origin':'Kochi',\n",
        "\t\t'destination_dc':'Bengaluru',\n",
        "\t\t'cost':9240\n",
        "\t}\n",
        "]\n",
        "\n",
        "demand = [\n",
        "\t{\n",
        "\t\t'dc':'Kalaburagi',\n",
        "\t\t'tractors':4800\n",
        "\t},\n",
        "\t{\n",
        "\t\t'dc':'Bengaluru',\n",
        "\t\t'tractors':5700\n",
        "\t}\n",
        "]"
      ],
      "metadata": {
        "id": "TWYLRwt2ZEmJ"
      },
      "execution_count": 3,
      "outputs": []
    },
    {
      "cell_type": "code",
      "source": [
        "for t in transportation:\n",
        "  t['amt'] = Model.variable(name=f\"{t['origin']}__{t['destination_dc']}__amt\", lowBound=0, cat='Integer')\n",
        "\n",
        "# Initialize the model\n",
        "tadah_model = Model(name=\"HW05_TADAH\", sense='minimize')\n",
        "\n",
        "# Add objective\n",
        "tadah_model.add_objective(\n",
        "    fn=Model.sum([t['amt']*t['cost'] for t in transportation])\n",
        ")\n",
        "\n",
        "# Add constraints\n",
        "# Demand\n",
        "for d in demand:\n",
        "  tadah_model.add_constraint(\n",
        "    name=f\"{d['dc']}__demand\",\n",
        "    fn=Model.sum([t['amt'] for t in transportation if t['destination_dc']==d['dc']]) >= d['tractors'],\n",
        "  )\n",
        "# Plant capacity\n",
        "for p in plants:\n",
        "  tadah_model.add_constraint(\n",
        "      name=f\"{p['name']}__capacity\",\n",
        "      fn=Model.sum([t['amt'] for t in transportation if t['origin']==p['name']]) <= p['capacity'],\n",
        "  )\n",
        "\n",
        "\n",
        "tadah_model.show_formulation()\n"
      ],
      "metadata": {
        "colab": {
          "base_uri": "https://localhost:8080/"
        },
        "id": "ehZs15AZh2pn",
        "outputId": "e0e64c65-22e9-4929-862c-46ae65ed2922"
      },
      "execution_count": 10,
      "outputs": [
        {
          "output_type": "stream",
          "name": "stdout",
          "text": [
            "HW05_TADAH:\n",
            "MINIMIZE\n",
            "12600*Chennai__Bengaluru__amt + 12200*Chennai__Kalaburagi__amt + 9240*Kochi__Bengaluru__amt + 10300*Kochi__Kalaburagi__amt + 10600*Mumbai__Bengaluru__amt + 16500*Mumbai__Kalaburagi__amt + 0\n",
            "SUBJECT TO\n",
            "Kalaburagi__demand: Chennai__Kalaburagi__amt + Kochi__Kalaburagi__amt\n",
            " + Mumbai__Kalaburagi__amt >= 4800\n",
            "\n",
            "Bengaluru__demand: Chennai__Bengaluru__amt + Kochi__Bengaluru__amt\n",
            " + Mumbai__Bengaluru__amt >= 5700\n",
            "\n",
            "Mumbai__capacity: Mumbai__Bengaluru__amt + Mumbai__Kalaburagi__amt <= 4800\n",
            "\n",
            "Chennai__capacity: Chennai__Bengaluru__amt + Chennai__Kalaburagi__amt <= 3500\n",
            "\n",
            "Kochi__capacity: Kochi__Bengaluru__amt + Kochi__Kalaburagi__amt <= 2200\n",
            "\n",
            "VARIABLES\n",
            "0 <= Chennai__Bengaluru__amt Integer\n",
            "0 <= Chennai__Kalaburagi__amt Integer\n",
            "0 <= Kochi__Bengaluru__amt Integer\n",
            "0 <= Kochi__Kalaburagi__amt Integer\n",
            "0 <= Mumbai__Bengaluru__amt Integer\n",
            "0 <= Mumbai__Kalaburagi__amt Integer\n",
            "\n"
          ]
        }
      ]
    },
    {
      "cell_type": "code",
      "source": [],
      "metadata": {
        "id": "QvV_7dHdjcQf"
      },
      "execution_count": null,
      "outputs": []
    },
    {
      "cell_type": "code",
      "source": [
        "tadah_model.show_outputs()"
      ],
      "metadata": {
        "colab": {
          "base_uri": "https://localhost:8080/"
        },
        "id": "oLJCePVsi8uF",
        "outputId": "b99473fb-eb4f-486c-d955-9b6b205d1009"
      },
      "execution_count": 12,
      "outputs": [
        {
          "output_type": "stream",
          "name": "stdout",
          "text": [
            "{'objective': 115286000.0,\n",
            " 'status': 'Optimal',\n",
            " 'variables': {'Chennai__Bengaluru__amt': 0.0,\n",
            "               'Chennai__Kalaburagi__amt': 3500.0,\n",
            "               'Kochi__Bengaluru__amt': 900.0,\n",
            "               'Kochi__Kalaburagi__amt': 1300.0,\n",
            "               'Mumbai__Bengaluru__amt': 4800.0,\n",
            "               'Mumbai__Kalaburagi__amt': 0.0}}\n"
          ]
        }
      ]
    }
  ]
}